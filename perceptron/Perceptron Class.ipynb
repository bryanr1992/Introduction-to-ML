{
 "cells": [
  {
   "cell_type": "code",
   "execution_count": 8,
   "id": "184e2b56",
   "metadata": {},
   "outputs": [],
   "source": [
    "import numpy as np"
   ]
  },
  {
   "cell_type": "code",
   "execution_count": 9,
   "id": "83bb2e9c",
   "metadata": {},
   "outputs": [],
   "source": [
    "class Perceptron(object):\n",
    "    \"\"\"\n",
    "    \n",
    "    Parameters\n",
    "    ------------\n",
    "    eta : float\n",
    "     Learning rate (between 0.0 and 1.0)\n",
    "    n_iter : int\n",
    "     Passes over the training dataset (epoch)\n",
    "    random_state : int\n",
    "     Random number generator seed for random weight\n",
    "     initialization\n",
    "     \n",
    "    Attributes\n",
    "    -------------\n",
    "    w_ : 1d-array\n",
    "     Weights after fitting.\n",
    "    errors_ : list\n",
    "     Number of misclassifications (updates) in each epoch.\n",
    "    \"\"\"\n",
    "    \n",
    "    def __init__(self, eta=0.01, n_iter=50, random_state=1):\n",
    "        self.eta = eta\n",
    "        self.n_iter = n_iter\n",
    "        self.random_state = random_state"
   ]
  },
  {
   "cell_type": "code",
   "execution_count": 16,
   "id": "8113c332",
   "metadata": {},
   "outputs": [],
   "source": [
    "def fit(self, X, y):\n",
    "    \"\"\"Fit training data.\n",
    "    \n",
    "    Parameters\n",
    "    --------------\n",
    "    X : {array-like}, shape = [n_samples, n_features]\n",
    "      Training vectors, where n_samples is the number of\n",
    "      samples and\n",
    "      n_features is the number of featrues.\n",
    "    y : array-like, shape = [n_samples]\n",
    "      Target values.\n",
    "      \n",
    "    Returns\n",
    "    -------------\n",
    "    self : object\n",
    "    \n",
    "    \"\"\"\n",
    "    \n",
    "    rgen = np.random.RandomState(self.random_state)\n",
    "    self.w_ = rgen.normal(loc=0.0, scale=0.01,\n",
    "                          size=1 + X.shape[1])\n",
    "    self.errors_ = []\n",
    "    \n",
    "    for _ in range(self.n_iter):\n",
    "        errors = 0\n",
    "        for xi, target in zip(X,y):\n",
    "            update = self.eta * (target - self.predict(xi))\n",
    "            self.w_[1:] += update * xi\n",
    "            self.w_[0] += update\n",
    "            errors += int(update != 0.0)\n",
    "        self.errors_.append(errors)\n",
    "    return self\n",
    "#The reason we used a normal distribution and a standard diviation\n",
    "#of 0.01 was completely arbitrary."
   ]
  },
  {
   "cell_type": "code",
   "execution_count": 17,
   "id": "604ae510",
   "metadata": {},
   "outputs": [],
   "source": [
    "    def net_input(self, X):\n",
    "        \"\"\"Calculate input\"\"\"\n",
    "        return np.dot(X, self.w_[1:]) + self.w_[0]"
   ]
  },
  {
   "cell_type": "code",
   "execution_count": 18,
   "id": "25dd239a",
   "metadata": {},
   "outputs": [],
   "source": [
    "    def predict(self, X):\n",
    "        \"\"\"Return clss label after unit step\"\"\"\n",
    "        return np.where(self.net_input(X) >= 0.0, 1, -1)"
   ]
  },
  {
   "cell_type": "code",
   "execution_count": 19,
   "id": "a4edf857",
   "metadata": {},
   "outputs": [],
   "source": [
    "#v1 = np.array([1,2,3])\n",
    "#v2 = 0.5 * v1\n",
    "#np.arccos(v1.dot(v2) / (np.linalg.norm(v1) * np.linalg.norm(v2)))\n",
    "#Compute the angle between vectors v1 and v2 where v2 is half of v1\n",
    "#norm computews the length of a vector"
   ]
  },
  {
   "cell_type": "code",
   "execution_count": null,
   "id": "88d18619",
   "metadata": {},
   "outputs": [],
   "source": []
  }
 ],
 "metadata": {
  "kernelspec": {
   "display_name": "Python 3 (ipykernel)",
   "language": "python",
   "name": "python3"
  },
  "language_info": {
   "codemirror_mode": {
    "name": "ipython",
    "version": 3
   },
   "file_extension": ".py",
   "mimetype": "text/x-python",
   "name": "python",
   "nbconvert_exporter": "python",
   "pygments_lexer": "ipython3",
   "version": "3.9.7"
  }
 },
 "nbformat": 4,
 "nbformat_minor": 5
}
