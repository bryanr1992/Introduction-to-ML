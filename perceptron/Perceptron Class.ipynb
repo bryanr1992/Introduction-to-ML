{
 "cells": [
  {
   "cell_type": "code",
   "execution_count": 1,
   "id": "84ae0eff",
   "metadata": {},
   "outputs": [],
   "source": [
    "import numpy as np"
   ]
  },
  {
   "cell_type": "code",
   "execution_count": 2,
   "id": "ec547c45",
   "metadata": {},
   "outputs": [],
   "source": [
    "class Perceptron(object):\n",
    "    \"\"\"\n",
    "    \n",
    "    Parameters\n",
    "    ------------\n",
    "    eta : float\n",
    "     Learning rate (between 0.0 and 1.0)\n",
    "    n_iter : int\n",
    "     Passes over the training dataset (epoch)\n",
    "    random_state : int\n",
    "     Random number generator seed for random weight\n",
    "     initialization\n",
    "     \n",
    "    Attributes\n",
    "    -------------\n",
    "    w_ : 1d-array\n",
    "     Weights after fitting.\n",
    "    errors_ : list\n",
    "     Number of misclassifications (updates) in each epoch.\n",
    "    \"\"\"\n",
    "    \n",
    "    def __init__(self, eta=0.01, n_iter=50, random_state=1):\n",
    "        self.eta = eta\n",
    "        self.n_iter = n_iter\n",
    "        self.random_state = random_state\n",
    "    \n",
    "    def fit(self, X, y):\n",
    "        \"\"\"Fit training data.\n",
    "\n",
    "        Parameters\n",
    "        --------------\n",
    "        X : {array-like}, shape = [n_samples, n_features]\n",
    "          Training vectors, where n_samples is the number of\n",
    "          samples and\n",
    "          n_features is the number of featrues.\n",
    "        y : array-like, shape = [n_samples]\n",
    "          Target values.\n",
    "\n",
    "        Returns\n",
    "        -------------\n",
    "        self : object\n",
    "\n",
    "        \"\"\"\n",
    "\n",
    "        rgen = np.random.RandomState(self.random_state)\n",
    "        self.w_ = rgen.normal(loc=0.0, scale=0.01,\n",
    "                              size=1 + X.shape[1])\n",
    "        self.errors_ = []\n",
    "\n",
    "        for _ in range(self.n_iter):\n",
    "            errors = 0\n",
    "            for xi, target in zip(X,y):\n",
    "                update = self.eta * (target - self.predict(xi))\n",
    "                self.w_[1:] += update * xi\n",
    "                self.w_[0] += update\n",
    "                errors += int(update != 0.0)\n",
    "            self.errors_.append(errors)\n",
    "        return self\n",
    "        #The reason we used a normal distribution and a standard diviation\n",
    "        #of 0.01 was completely arbitrary.\n",
    "    \n",
    "    def net_input(self, X):\n",
    "        \"\"\"Calculate input\"\"\"\n",
    "        return np.dot(X, self.w_[1:]) + self.w_[0]\n",
    "\n",
    "    def predict(self, X):\n",
    "        \"\"\"Return clss label after unit step\"\"\"\n",
    "        return np.where(self.net_input(X) >= 0.0, 1, -1)"
   ]
  },
  {
   "cell_type": "code",
   "execution_count": 3,
   "id": "b7cc2033",
   "metadata": {},
   "outputs": [],
   "source": [
    "#v1 = np.array([1,2,3])\n",
    "#v2 = 0.5 * v1\n",
    "#np.arccos(v1.dot(v2) / (np.linalg.norm(v1) * np.linalg.norm(v2)))\n",
    "#Compute the angle between vectors v1 and v2 where v2 is half of v1\n",
    "#norm computews the length of a vector"
   ]
  },
  {
   "cell_type": "code",
   "execution_count": 4,
   "id": "468d22e2",
   "metadata": {},
   "outputs": [],
   "source": [
    "#We will use the pandas library to load the Iris dataset firectly from UCI Machine Learning Repo into a DataFrame\n",
    "#Object and print the last five lines via the tail method to check that the data is loaded correctly"
   ]
  },
  {
   "cell_type": "code",
   "execution_count": 5,
   "id": "2deb7b5b",
   "metadata": {},
   "outputs": [],
   "source": [
    "import pandas as pd"
   ]
  },
  {
   "cell_type": "code",
   "execution_count": 6,
   "id": "121158c0",
   "metadata": {},
   "outputs": [],
   "source": [
    "df = pd.read_csv('https://archive.ics.uci.edu/ml/'\n",
    "                 'machine-learning-databases/iris/iris.data',\n",
    "                 header=None)\n",
    "#If working offline we can load the data locally like so\n",
    "#df = pd.read_csv('your/local/path/to/data', header=None)"
   ]
  },
  {
   "cell_type": "code",
   "execution_count": 7,
   "id": "ac854c37",
   "metadata": {},
   "outputs": [
    {
     "data": {
      "text/html": [
       "<div>\n",
       "<style scoped>\n",
       "    .dataframe tbody tr th:only-of-type {\n",
       "        vertical-align: middle;\n",
       "    }\n",
       "\n",
       "    .dataframe tbody tr th {\n",
       "        vertical-align: top;\n",
       "    }\n",
       "\n",
       "    .dataframe thead th {\n",
       "        text-align: right;\n",
       "    }\n",
       "</style>\n",
       "<table border=\"1\" class=\"dataframe\">\n",
       "  <thead>\n",
       "    <tr style=\"text-align: right;\">\n",
       "      <th></th>\n",
       "      <th>0</th>\n",
       "      <th>1</th>\n",
       "      <th>2</th>\n",
       "      <th>3</th>\n",
       "      <th>4</th>\n",
       "    </tr>\n",
       "  </thead>\n",
       "  <tbody>\n",
       "    <tr>\n",
       "      <th>145</th>\n",
       "      <td>6.7</td>\n",
       "      <td>3.0</td>\n",
       "      <td>5.2</td>\n",
       "      <td>2.3</td>\n",
       "      <td>Iris-virginica</td>\n",
       "    </tr>\n",
       "    <tr>\n",
       "      <th>146</th>\n",
       "      <td>6.3</td>\n",
       "      <td>2.5</td>\n",
       "      <td>5.0</td>\n",
       "      <td>1.9</td>\n",
       "      <td>Iris-virginica</td>\n",
       "    </tr>\n",
       "    <tr>\n",
       "      <th>147</th>\n",
       "      <td>6.5</td>\n",
       "      <td>3.0</td>\n",
       "      <td>5.2</td>\n",
       "      <td>2.0</td>\n",
       "      <td>Iris-virginica</td>\n",
       "    </tr>\n",
       "    <tr>\n",
       "      <th>148</th>\n",
       "      <td>6.2</td>\n",
       "      <td>3.4</td>\n",
       "      <td>5.4</td>\n",
       "      <td>2.3</td>\n",
       "      <td>Iris-virginica</td>\n",
       "    </tr>\n",
       "    <tr>\n",
       "      <th>149</th>\n",
       "      <td>5.9</td>\n",
       "      <td>3.0</td>\n",
       "      <td>5.1</td>\n",
       "      <td>1.8</td>\n",
       "      <td>Iris-virginica</td>\n",
       "    </tr>\n",
       "  </tbody>\n",
       "</table>\n",
       "</div>"
      ],
      "text/plain": [
       "       0    1    2    3               4\n",
       "145  6.7  3.0  5.2  2.3  Iris-virginica\n",
       "146  6.3  2.5  5.0  1.9  Iris-virginica\n",
       "147  6.5  3.0  5.2  2.0  Iris-virginica\n",
       "148  6.2  3.4  5.4  2.3  Iris-virginica\n",
       "149  5.9  3.0  5.1  1.8  Iris-virginica"
      ]
     },
     "execution_count": 7,
     "metadata": {},
     "output_type": "execute_result"
    }
   ],
   "source": [
    "df.tail()"
   ]
  },
  {
   "cell_type": "code",
   "execution_count": 8,
   "id": "35bd35ed",
   "metadata": {},
   "outputs": [],
   "source": [
    "#Next we are going to etract the first 100 class labels that correspond to the 50 Urus-setosa and Iris-Versicolor\n",
    "#flowers, and convert the classlabels into two integer class labels 1 (verisicolor) and -1(setosa) that we assign\n",
    "#to a vector y, where the values method of a pandas DataFrame yields the corresponding NumPy representation\n",
    "\n",
    "#Similarly, we extract the first feature column (sepal length) and the third feature column (petal length) of those\n",
    "#100 training samples and assign them to a feature matrix X, which we can visualize via a two dimensional scatter\n",
    "#plot"
   ]
  },
  {
   "cell_type": "code",
   "execution_count": 9,
   "id": "4ef97178",
   "metadata": {},
   "outputs": [],
   "source": [
    "import matplotlib.pyplot as plt"
   ]
  },
  {
   "cell_type": "code",
   "execution_count": 10,
   "id": "e2adaf5c",
   "metadata": {},
   "outputs": [],
   "source": [
    "#Select setosa and versicolor\n",
    "y = df.iloc[0:100, 4].values #First 100 entries of column 4\n",
    "y = np.where(y == 'Iris-setosa', -1, 1)"
   ]
  },
  {
   "cell_type": "code",
   "execution_count": 11,
   "id": "20a11a08",
   "metadata": {},
   "outputs": [],
   "source": [
    "#extract sepal length and petal length \n",
    "X = df.iloc[0:100, [0,2]].values"
   ]
  },
  {
   "cell_type": "code",
   "execution_count": 12,
   "id": "7bfdf631",
   "metadata": {},
   "outputs": [
    {
     "data": {
      "text/plain": [
       "<matplotlib.collections.PathCollection at 0x1245b7dc0>"
      ]
     },
     "execution_count": 12,
     "metadata": {},
     "output_type": "execute_result"
    },
    {
     "data": {
      "image/png": "[encoded data removed]",
      "text/plain": [
       "<Figure size 432x288 with 1 Axes>"
      ]
     },
     "metadata": {
      "needs_background": "light"
     },
     "output_type": "display_data"
    }
   ],
   "source": [
    "#plot data\n",
    "plt.scatter(X[:50,0], X[:50, 1],\n",
    "            color='red', marker='o', label='setosa')"
   ]
  },
  {
   "cell_type": "code",
   "execution_count": 13,
   "id": "8b395469",
   "metadata": {},
   "outputs": [
    {
     "data": {
      "text/plain": [
       "<matplotlib.collections.PathCollection at 0x1246b8fa0>"
      ]
     },
     "execution_count": 13,
     "metadata": {},
     "output_type": "execute_result"
    },
    {
     "data": {
      "image/png": "[encoded data removed]",
      "text/plain": [
       "<Figure size 432x288 with 1 Axes>"
      ]
     },
     "metadata": {
      "needs_background": "light"
     },
     "output_type": "display_data"
    }
   ],
   "source": [
    "plt.scatter(X[50:100,0], X[50:100, 1],\n",
    "            color='blue', marker='x', label='versicolor')"
   ]
  },
  {
   "cell_type": "code",
   "execution_count": 14,
   "id": "00fd4ac4",
   "metadata": {},
   "outputs": [
    {
     "data": {
      "image/png": "[encoded data removed]",
      "text/plain": [
       "<Figure size 432x288 with 1 Axes>"
      ]
     },
     "metadata": {
      "needs_background": "light"
     },
     "output_type": "display_data"
    }
   ],
   "source": [
    "#plotting in the same graph\n",
    "plt.scatter(X[:50,0], X[:50, 1],\n",
    "            color='red', marker='o', label='setosa')\n",
    "plt.scatter(X[50:100,0], X[50:100, 1],\n",
    "            color='blue', marker='x', label='versicolor')\n",
    "plt.xlabel('sepal length [cm]')\n",
    "plt.ylabel('petal length [cm]')\n",
    "plt.legend(loc='upper left')\n",
    "plt.show()"
   ]
  },
  {
   "cell_type": "code",
   "execution_count": 15,
   "id": "3bf92a3c",
   "metadata": {},
   "outputs": [],
   "source": [
    "#From the graph we can see that a linear classifier such as the perceptron should e able to classigy the \n",
    "#flowers in this dataset perfectly as the feature subspace is linearly separable."
   ]
  },
  {
   "cell_type": "code",
   "execution_count": 16,
   "id": "dd801a61",
   "metadata": {},
   "outputs": [],
   "source": [
    "#Now, it's time to train our perceptron algorithm on the iris data subset that we just extracted. Also, we will plot\n",
    "#the misclassification error for each epoch to check whether the algorithm onverged and found a decision boundary\n",
    "#that separates the two Iris flower classes:"
   ]
  },
  {
   "cell_type": "code",
   "execution_count": 17,
   "id": "484a41f7",
   "metadata": {},
   "outputs": [],
   "source": [
    "ppn = Perceptron(eta=0.1,n_iter=10)"
   ]
  },
  {
   "cell_type": "code",
   "execution_count": 18,
   "id": "7e89e9eb",
   "metadata": {},
   "outputs": [
    {
     "data": {
      "text/plain": [
       "<__main__.Perceptron at 0x1246f2f10>"
      ]
     },
     "execution_count": 18,
     "metadata": {},
     "output_type": "execute_result"
    }
   ],
   "source": [
    "ppn.fit(X,y)"
   ]
  },
  {
   "cell_type": "code",
   "execution_count": 19,
   "id": "bac963a5",
   "metadata": {},
   "outputs": [
    {
     "data": {
      "image/png": "[encoded data removed]",
      "text/plain": [
       "<Figure size 432x288 with 1 Axes>"
      ]
     },
     "metadata": {
      "needs_background": "light"
     },
     "output_type": "display_data"
    }
   ],
   "source": [
    "plt.plot(range(1,len(ppn.errors_) + 1),\n",
    "         ppn.errors_, marker='o')\n",
    "plt.xlabel('Epochs')\n",
    "plt.ylabel('Number of updates')\n",
    "plt.show()"
   ]
  },
  {
   "cell_type": "code",
   "execution_count": 20,
   "id": "e5fb3d24",
   "metadata": {},
   "outputs": [
    {
     "name": "stdout",
     "output_type": "stream",
     "text": [
      "[1, 3, 3, 2, 1, 0, 0, 0, 0, 0]\n"
     ]
    }
   ],
   "source": [
    "print(ppn.errors_)"
   ]
  },
  {
   "cell_type": "code",
   "execution_count": 21,
   "id": "c5ad1f0b",
   "metadata": {},
   "outputs": [],
   "source": [
    "#We can see that our perceptron converged after the sixth epoch and should now be able to classify the training\n",
    "#samples perfectly."
   ]
  },
  {
   "cell_type": "code",
   "execution_count": 22,
   "id": "91b51076",
   "metadata": {},
   "outputs": [
    {
     "name": "stdout",
     "output_type": "stream",
     "text": [
      "[-1 -1 -1 -1 -1 -1 -1 -1 -1 -1 -1 -1 -1 -1 -1 -1 -1 -1 -1 -1 -1 -1 -1 -1\n",
      " -1 -1 -1 -1 -1 -1 -1 -1 -1 -1 -1 -1 -1 -1 -1 -1 -1 -1 -1 -1 -1 -1 -1 -1\n",
      " -1 -1  1  1  1  1  1  1  1  1  1  1  1  1  1  1  1  1  1  1  1  1  1  1\n",
      "  1  1  1  1  1  1  1  1  1  1  1  1  1  1  1  1  1  1  1  1  1  1  1  1\n",
      "  1  1  1  1]\n"
     ]
    }
   ],
   "source": [
    "print(y)"
   ]
  },
  {
   "cell_type": "code",
   "execution_count": 23,
   "id": "237bfeda",
   "metadata": {},
   "outputs": [],
   "source": [
    "#we can see our two classes represented as -1 and 1"
   ]
  },
  {
   "cell_type": "code",
   "execution_count": 24,
   "id": "6f9995bd",
   "metadata": {},
   "outputs": [],
   "source": [
    "#We are going to implement a convenience function to visualize the decision boundaries for a two-dimensional dataset"
   ]
  },
  {
   "cell_type": "code",
   "execution_count": 25,
   "id": "e1bcf904",
   "metadata": {},
   "outputs": [],
   "source": [
    "from matplotlib.colors import ListedColormap"
   ]
  },
  {
   "cell_type": "code",
   "execution_count": 33,
   "id": "acf278a0",
   "metadata": {},
   "outputs": [],
   "source": [
    "def plot_decision_regions(X, y, classifier, resolution=0.02):\n",
    "    \n",
    "    #setup marker generator and color map\n",
    "    markers = ('s', 'x', 'o', '^', 'v')\n",
    "    colors = ('red', 'blue', 'lightgreen', 'gray', 'cyan')\n",
    "    cmap = ListedColormap(colors[:len(np.unique(y))])\n",
    "    \n",
    "    #plot the decision surface\n",
    "    \n",
    "    x1_min, x1_max = X[:, 0].min() - 1, X[:, 0].max() + 1\n",
    "    x2_min, x2_max = X[:, 1].min() - 1, X[:, 1].max() + 1\n",
    "    xx1, xx2 = np.meshgrid(np.arange(x1_min, x1_max, resolution),\n",
    "                           np.arange(x2_min, x2_max, resolution))\n",
    "    Z = classifier.predict(np.array([xx1.ravel(), xx2.ravel()]).T)\n",
    "    Z = Z.reshape(xx1.shape)\n",
    "    \n",
    "    plt.contourf(xx1, xx2, Z, alpha=0.3, cmap=cmap)\n",
    "    plt.xlim(xx1.min(), xx1.max())\n",
    "    plt.ylim(xx2.min(), xx2.max())\n",
    "    \n",
    "    #plot class samples\n",
    "    for idx, cl in enumerate(np.unique(y)):\n",
    "        plt.scatter(x=X[y == cl, 0],\n",
    "                     y=X[y == cl, 1],\n",
    "                     alpha=0.8,\n",
    "                     c=colors[idx],\n",
    "                     marker=markers[idx],\n",
    "                     label=cl,\n",
    "                     edgecolor='black')\n",
    "    #idx will be a counter i.e first element is 0, second element is 1\n",
    "    #cl will contain the unique element of y"
   ]
  },
  {
   "cell_type": "code",
   "execution_count": 34,
   "id": "05db30ce",
   "metadata": {},
   "outputs": [],
   "source": [
    "#let us draw plot"
   ]
  },
  {
   "cell_type": "code",
   "execution_count": 35,
   "id": "14a65f61",
   "metadata": {},
   "outputs": [
    {
     "name": "stderr",
     "output_type": "stream",
     "text": [
      "/var/folders/66/vq3ykjx95j994mj5vw0jc58m0000gn/T/ipykernel_78667/3132478291.py:23: UserWarning: You passed a edgecolor/edgecolors ('black') for an unfilled marker ('x').  Matplotlib is ignoring the edgecolor in favor of the facecolor.  This behavior may change in the future.\n",
      "  plt.scatter(x=X[y == cl, 0],\n"
     ]
    },
    {
     "data": {
      "image/png": "[encoded data removed]",
      "text/plain": [
       "<Figure size 432x288 with 1 Axes>"
      ]
     },
     "metadata": {
      "needs_background": "light"
     },
     "output_type": "display_data"
    }
   ],
   "source": [
    "plot_decision_regions(X, y, classifier=ppn)\n",
    "plt.xlabel('sepal length [cm]')\n",
    "plt.ylabel('petal length [cm]')\n",
    "plt.legend(loc='upper left')\n",
    "plt.show()"
   ]
  },
  {
   "cell_type": "code",
   "execution_count": null,
   "id": "612c49a8",
   "metadata": {},
   "outputs": [],
   "source": []
  }
 ],
 "metadata": {
  "kernelspec": {
   "display_name": "Python 3 (ipykernel)",
   "language": "python",
   "name": "python3"
  },
  "language_info": {
   "codemirror_mode": {
    "name": "ipython",
    "version": 3
   },
   "file_extension": ".py",
   "mimetype": "text/x-python",
   "name": "python",
   "nbconvert_exporter": "python",
   "pygments_lexer": "ipython3",
   "version": "3.9.7"
  }
 },
 "nbformat": 4,
 "nbformat_minor": 5
}
