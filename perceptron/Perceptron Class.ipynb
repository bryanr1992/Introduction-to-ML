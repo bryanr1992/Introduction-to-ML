{
 "cells": [
  {
   "cell_type": "code",
   "execution_count": 8,
   "id": "c52c78d1",
   "metadata": {},
   "outputs": [],
   "source": [
    "import numpy as np"
   ]
  },
  {
   "cell_type": "code",
   "execution_count": 9,
   "id": "24c3b441",
   "metadata": {},
   "outputs": [],
   "source": [
    "class Perceptron(object):\n",
    "    \"\"\"\n",
    "    \n",
    "    Parameters\n",
    "    ------------\n",
    "    eta : float\n",
    "     Learning rate (between 0.0 and 1.0)\n",
    "    n_iter : int\n",
    "     Passes over the training dataset (epoch)\n",
    "    random_state : int\n",
    "     Random number generator seed for random weight\n",
    "     initialization\n",
    "     \n",
    "    Attributes\n",
    "    -------------\n",
    "    w_ : 1d-array\n",
    "     Weights after fitting.\n",
    "    errors_ : list\n",
    "     Number of misclassifications (updates) in each epoch.\n",
    "    \"\"\"\n",
    "    \n",
    "    def __init__(self, eta=0.01, n_iter=50, random_state=1):\n",
    "        self.eta = eta\n",
    "        self.n_iter = n_iter\n",
    "        self.random_state = random_state"
   ]
  },
  {
   "cell_type": "code",
   "execution_count": 16,
   "id": "21b81b44",
   "metadata": {},
   "outputs": [],
   "source": [
    "def fit(self, X, y):\n",
    "    \"\"\"Fit training data.\n",
    "    \n",
    "    Parameters\n",
    "    --------------\n",
    "    X : {array-like}, shape = [n_samples, n_features]\n",
    "      Training vectors, where n_samples is the number of\n",
    "      samples and\n",
    "      n_features is the number of featrues.\n",
    "    y : array-like, shape = [n_samples]\n",
    "      Target values.\n",
    "      \n",
    "    Returns\n",
    "    -------------\n",
    "    self : object\n",
    "    \n",
    "    \"\"\"\n",
    "    \n",
    "    rgen = np.random.RandomState(self.random_state)\n",
    "    self.w_ = rgen.normal(loc=0.0, scale=0.01,\n",
    "                          size=1 + X.shape[1])\n",
    "    self.errors_ = []\n",
    "    \n",
    "    for _ in range(self.n_iter):\n",
    "        errors = 0\n",
    "        for xi, target in zip(X,y):\n",
    "            update = self.eta * (target - self.predict(xi))\n",
    "            self.w_[1:] += update * xi\n",
    "            self.w_[0] += update\n",
    "            errors += int(update != 0.0)\n",
    "        self.errors_.append(errors)\n",
    "    return self\n",
    "#The reason we used a normal distribution and a standard diviation\n",
    "#of 0.01 was completely arbitrary."
   ]
  },
  {
   "cell_type": "code",
   "execution_count": 17,
   "id": "9dc101e5",
   "metadata": {},
   "outputs": [],
   "source": [
    "    def net_input(self, X):\n",
    "        \"\"\"Calculate input\"\"\"\n",
    "        return np.dot(X, self.w_[1:]) + self.w_[0]"
   ]
  },
  {
   "cell_type": "code",
   "execution_count": 18,
   "id": "171df5aa",
   "metadata": {},
   "outputs": [],
   "source": [
    "    def predict(self, X):\n",
    "        \"\"\"Return clss label after unit step\"\"\"\n",
    "        return np.where(self.net_input(X) >= 0.0, 1, -1)"
   ]
  },
  {
   "cell_type": "code",
   "execution_count": 19,
   "id": "50a342f0",
   "metadata": {},
   "outputs": [],
   "source": [
    "#v1 = np.array([1,2,3])\n",
    "#v2 = 0.5 * v1\n",
    "#np.arccos(v1.dot(v2) / (np.linalg.norm(v1) * np.linalg.norm(v2)))\n",
    "#Compute the angle between vectors v1 and v2 where v2 is half of v1\n",
    "#norm computews the length of a vector"
   ]
  },
  {
   "cell_type": "code",
   "execution_count": 20,
   "id": "1fe7ebbe",
   "metadata": {},
   "outputs": [],
   "source": [
    "#We will use the pandas library to load the Iris dataset firectly from UCI Machine Learning Repo into a DataFrame\n",
    "#Object and print the last five lines via the tail method to check that the data is loaded correctly"
   ]
  },
  {
   "cell_type": "code",
   "execution_count": 25,
   "id": "eb602203",
   "metadata": {},
   "outputs": [],
   "source": [
    "import pandas as pd"
   ]
  },
  {
   "cell_type": "code",
   "execution_count": 30,
   "id": "3cb5151f",
   "metadata": {},
   "outputs": [],
   "source": [
    "df = pd.read_csv('https://archive.ics.uci.edu/ml/'\n",
    "                 'machine-learning-databases/iris/iris.data',\n",
    "                 header=None)\n",
    "#If working offline we can load the data locally like so\n",
    "#df = pd.read_csv('your/local/path/to/data', header=None)"
   ]
  },
  {
   "cell_type": "code",
   "execution_count": 31,
   "id": "346274c4",
   "metadata": {},
   "outputs": [
    {
     "data": {
      "text/html": [
       "<div>\n",
       "<style scoped>\n",
       "    .dataframe tbody tr th:only-of-type {\n",
       "        vertical-align: middle;\n",
       "    }\n",
       "\n",
       "    .dataframe tbody tr th {\n",
       "        vertical-align: top;\n",
       "    }\n",
       "\n",
       "    .dataframe thead th {\n",
       "        text-align: right;\n",
       "    }\n",
       "</style>\n",
       "<table border=\"1\" class=\"dataframe\">\n",
       "  <thead>\n",
       "    <tr style=\"text-align: right;\">\n",
       "      <th></th>\n",
       "      <th>0</th>\n",
       "      <th>1</th>\n",
       "      <th>2</th>\n",
       "      <th>3</th>\n",
       "      <th>4</th>\n",
       "    </tr>\n",
       "  </thead>\n",
       "  <tbody>\n",
       "    <tr>\n",
       "      <th>145</th>\n",
       "      <td>6.7</td>\n",
       "      <td>3.0</td>\n",
       "      <td>5.2</td>\n",
       "      <td>2.3</td>\n",
       "      <td>Iris-virginica</td>\n",
       "    </tr>\n",
       "    <tr>\n",
       "      <th>146</th>\n",
       "      <td>6.3</td>\n",
       "      <td>2.5</td>\n",
       "      <td>5.0</td>\n",
       "      <td>1.9</td>\n",
       "      <td>Iris-virginica</td>\n",
       "    </tr>\n",
       "    <tr>\n",
       "      <th>147</th>\n",
       "      <td>6.5</td>\n",
       "      <td>3.0</td>\n",
       "      <td>5.2</td>\n",
       "      <td>2.0</td>\n",
       "      <td>Iris-virginica</td>\n",
       "    </tr>\n",
       "    <tr>\n",
       "      <th>148</th>\n",
       "      <td>6.2</td>\n",
       "      <td>3.4</td>\n",
       "      <td>5.4</td>\n",
       "      <td>2.3</td>\n",
       "      <td>Iris-virginica</td>\n",
       "    </tr>\n",
       "    <tr>\n",
       "      <th>149</th>\n",
       "      <td>5.9</td>\n",
       "      <td>3.0</td>\n",
       "      <td>5.1</td>\n",
       "      <td>1.8</td>\n",
       "      <td>Iris-virginica</td>\n",
       "    </tr>\n",
       "  </tbody>\n",
       "</table>\n",
       "</div>"
      ],
      "text/plain": [
       "       0    1    2    3               4\n",
       "145  6.7  3.0  5.2  2.3  Iris-virginica\n",
       "146  6.3  2.5  5.0  1.9  Iris-virginica\n",
       "147  6.5  3.0  5.2  2.0  Iris-virginica\n",
       "148  6.2  3.4  5.4  2.3  Iris-virginica\n",
       "149  5.9  3.0  5.1  1.8  Iris-virginica"
      ]
     },
     "execution_count": 31,
     "metadata": {},
     "output_type": "execute_result"
    }
   ],
   "source": [
    "df.tail()"
   ]
  },
  {
   "cell_type": "code",
   "execution_count": 32,
   "id": "3e081253",
   "metadata": {},
   "outputs": [],
   "source": [
    "#Next we are going to etract the first 100 class labels that correspond to the 50 Urus-setosa and Iris-Versicolor\n",
    "#flowers, and convert the classlabels into two integer class labels 1 (verisicolor) and -1(setosa) that we assign\n",
    "#to a vector y, where the values method of a pandas DataFrame yields the corresponding NumPy representation\n",
    "\n",
    "#Similarly, we extract the first feature column (sepal length) and the third feature column (petal length) of those\n",
    "#100 training samples and assign them to a feature matrix X, which we can visualize via a two dimensional scatter\n",
    "#plot"
   ]
  },
  {
   "cell_type": "code",
   "execution_count": 35,
   "id": "157e03ac",
   "metadata": {},
   "outputs": [],
   "source": [
    "import matplotlib.pyplot as plt"
   ]
  },
  {
   "cell_type": "code",
   "execution_count": 36,
   "id": "e24cda53",
   "metadata": {},
   "outputs": [],
   "source": [
    "#Select setosa and versicolor\n",
    "y = df.iloc[0:100, 4].values #First 100 entries of column 4\n",
    "y = np.where(y == 'Iris-setosa', -1, 1)"
   ]
  },
  {
   "cell_type": "code",
   "execution_count": 37,
   "id": "0fdd3229",
   "metadata": {},
   "outputs": [],
   "source": [
    "#extract sepal length and petal length \n",
    "X = df.iloc[0:100, [0,2]].values"
   ]
  },
  {
   "cell_type": "code",
   "execution_count": 42,
   "id": "643fedde",
   "metadata": {},
   "outputs": [
    {
     "data": {
      "text/plain": [
       "<matplotlib.collections.PathCollection at 0x11d3eabe0>"
      ]
     },
     "execution_count": 42,
     "metadata": {},
     "output_type": "execute_result"
    },
    {
     "data": {
      "image/png": "[encoded data removed]",
      "text/plain": [
       "<Figure size 432x288 with 1 Axes>"
      ]
     },
     "metadata": {
      "needs_background": "light"
     },
     "output_type": "display_data"
    }
   ],
   "source": [
    "#plot data\n",
    "plt.scatter(X[:50,0], X[:50, 1],\n",
    "            color='red', marker='o', label='setosa')"
   ]
  },
  {
   "cell_type": "code",
   "execution_count": 43,
   "id": "db34fd38",
   "metadata": {},
   "outputs": [
    {
     "data": {
      "text/plain": [
       "<matplotlib.collections.PathCollection at 0x11d45b280>"
      ]
     },
     "execution_count": 43,
     "metadata": {},
     "output_type": "execute_result"
    },
    {
     "data": {
      "image/png": "[encoded data removed]",
      "text/plain": [
       "<Figure size 432x288 with 1 Axes>"
      ]
     },
     "metadata": {
      "needs_background": "light"
     },
     "output_type": "display_data"
    }
   ],
   "source": [
    "plt.scatter(X[50:100,0], X[50:100, 1],\n",
    "            color='blue', marker='x', label='versicolor')"
   ]
  },
  {
   "cell_type": "code",
   "execution_count": 46,
   "id": "fa98ca64",
   "metadata": {},
   "outputs": [
    {
     "data": {
      "image/png": "[encoded data removed]",
      "text/plain": [
       "<Figure size 432x288 with 1 Axes>"
      ]
     },
     "metadata": {
      "needs_background": "light"
     },
     "output_type": "display_data"
    }
   ],
   "source": [
    "#plotting in the same graph\n",
    "plt.scatter(X[:50,0], X[:50, 1],\n",
    "            color='red', marker='o', label='setosa')\n",
    "plt.scatter(X[50:100,0], X[50:100, 1],\n",
    "            color='blue', marker='x', label='versicolor')\n",
    "plt.xlabel('sepal length [cm]')\n",
    "plt.ylabel('petal length [cm]')\n",
    "plt.legend(loc='upper left')\n",
    "plt.show()"
   ]
  },
  {
   "cell_type": "code",
   "execution_count": null,
   "id": "eca4d5ce",
   "metadata": {},
   "outputs": [],
   "source": []
  }
 ],
 "metadata": {
  "kernelspec": {
   "display_name": "Python 3 (ipykernel)",
   "language": "python",
   "name": "python3"
  },
  "language_info": {
   "codemirror_mode": {
    "name": "ipython",
    "version": 3
   },
   "file_extension": ".py",
   "mimetype": "text/x-python",
   "name": "python",
   "nbconvert_exporter": "python",
   "pygments_lexer": "ipython3",
   "version": "3.9.7"
  }
 },
 "nbformat": 4,
 "nbformat_minor": 5
}
